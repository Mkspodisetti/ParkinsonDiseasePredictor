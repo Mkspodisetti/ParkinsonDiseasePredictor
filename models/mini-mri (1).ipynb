{
 "cells": [
  {
   "cell_type": "code",
   "execution_count": 1,
   "id": "16fc9976",
   "metadata": {
    "execution": {
     "iopub.execute_input": "2025-06-15T14:41:59.567917Z",
     "iopub.status.busy": "2025-06-15T14:41:59.567664Z",
     "iopub.status.idle": "2025-06-15T14:42:19.372458Z",
     "shell.execute_reply": "2025-06-15T14:42:19.371517Z"
    },
    "papermill": {
     "duration": 19.809662,
     "end_time": "2025-06-15T14:42:19.373694",
     "exception": false,
     "start_time": "2025-06-15T14:41:59.564032",
     "status": "completed"
    },
    "tags": []
   },
   "outputs": [
    {
     "name": "stderr",
     "output_type": "stream",
     "text": [
      "2025-06-15 14:42:01.416875: E external/local_xla/xla/stream_executor/cuda/cuda_fft.cc:477] Unable to register cuFFT factory: Attempting to register factory for plugin cuFFT when one has already been registered\n",
      "WARNING: All log messages before absl::InitializeLog() is called are written to STDERR\n",
      "E0000 00:00:1749998521.662597      19 cuda_dnn.cc:8310] Unable to register cuDNN factory: Attempting to register factory for plugin cuDNN when one has already been registered\n",
      "E0000 00:00:1749998521.735270      19 cuda_blas.cc:1418] Unable to register cuBLAS factory: Attempting to register factory for plugin cuBLAS when one has already been registered\n"
     ]
    },
    {
     "name": "stdout",
     "output_type": "stream",
     "text": [
      "Dataset contents:\n",
      "Found 2 directories and 0 images in '/kaggle/input/parkinsons-brain-mri-dataset/parkinsons_dataset'\n",
      "Found 0 directories and 610 images in '/kaggle/input/parkinsons-brain-mri-dataset/parkinsons_dataset/normal'\n",
      "Found 0 directories and 221 images in '/kaggle/input/parkinsons-brain-mri-dataset/parkinsons_dataset/parkinson'\n",
      "\n",
      "Class distribution:\n",
      "label\n",
      "0    610\n",
      "1    221\n",
      "Name: count, dtype: int64\n"
     ]
    },
    {
     "name": "stderr",
     "output_type": "stream",
     "text": [
      "I0000 00:00:1749998539.247993      19 gpu_device.cc:2022] Created device /job:localhost/replica:0/task:0/device:GPU:0 with 13942 MB memory:  -> device: 0, name: Tesla T4, pci bus id: 0000:00:04.0, compute capability: 7.5\n",
      "I0000 00:00:1749998539.249622      19 gpu_device.cc:2022] Created device /job:localhost/replica:0/task:0/device:GPU:1 with 13942 MB memory:  -> device: 1, name: Tesla T4, pci bus id: 0000:00:05.0, compute capability: 7.5\n"
     ]
    }
   ],
   "source": [
    "import tensorflow as tf\n",
    "from tensorflow.keras import layers, models\n",
    "import matplotlib.pyplot as plt\n",
    "import pandas as pd\n",
    "from pathlib import Path\n",
    "from sklearn.model_selection import train_test_split\n",
    "from sklearn.metrics import classification_report, confusion_matrix\n",
    "import seaborn as sns\n",
    "import os\n",
    "\n",
    "# ==============\n",
    "# 1. Configuration\n",
    "# ==============\n",
    "IMG_SIZE = (224, 224)\n",
    "BATCH_SIZE = 32\n",
    "EPOCHS = 30\n",
    "\n",
    "# ==============\n",
    "# 2. Kaggle Data Loading\n",
    "# ==============\n",
    "# For Kaggle notebook\n",
    "input_path = Path('/kaggle/input/parkinsons-brain-mri-dataset/parkinsons_dataset')  # Update with your dataset name\n",
    "\n",
    "# Verify dataset structure\n",
    "print(\"Dataset contents:\")\n",
    "for dirpath, dirnames, filenames in os.walk(input_path):\n",
    "    print(f\"Found {len(dirnames)} directories and {len(filenames)} images in '{dirpath}'\")\n",
    "\n",
    "# Create dataframe with proper paths\n",
    "def get_file_paths(directory):\n",
    "    return [str(path) for path in Path(directory).glob('*/*.png')]\n",
    "\n",
    "df = pd.DataFrame({'path': get_file_paths(input_path)})\n",
    "df['label'] = df['path'].apply(lambda x: 0 if 'normal' in x else 1)  # Binary classification\n",
    "\n",
    "# Check class distribution\n",
    "print(\"\\nClass distribution:\")\n",
    "print(df['label'].value_counts())\n",
    "\n",
    "# ==============\n",
    "# 3. Data Pipeline (Kaggle optimized)\n",
    "# ==============\n",
    "def load_and_preprocess(path, label):\n",
    "    img = tf.io.read_file(path)\n",
    "    img = tf.image.decode_png(img, channels=3)\n",
    "    img = tf.image.resize(img, IMG_SIZE)\n",
    "    img = tf.keras.applications.efficientnet.preprocess_input(img)  # EfficientNet specific\n",
    "    return img, label\n",
    "\n",
    "# Train-test split (stratified)\n",
    "train_df, test_df = train_test_split(\n",
    "    df, \n",
    "    test_size=0.2,\n",
    "    stratify=df['label'],\n",
    "    random_state=42\n",
    ")\n",
    "\n",
    "# Create TensorFlow datasets\n",
    "def create_dataset(df, shuffle=False):\n",
    "    dataset = tf.data.Dataset.from_tensor_slices(\n",
    "        (df['path'].values, df['label'].values)\n",
    "    )\n",
    "    dataset = dataset.map(load_and_preprocess, num_parallel_calls=tf.data.AUTOTUNE)\n",
    "    if shuffle:\n",
    "        dataset = dataset.shuffle(buffer_size=len(df))\n",
    "    dataset = dataset.batch(BATCH_SIZE)\n",
    "    return dataset.prefetch(tf.data.AUTOTUNE)\n",
    "\n",
    "train_ds = create_dataset(train_df, shuffle=True)\n",
    "test_ds = create_dataset(test_df)\n",
    "\n"
   ]
  },
  {
   "cell_type": "code",
   "execution_count": 2,
   "id": "d9448e13",
   "metadata": {
    "execution": {
     "iopub.execute_input": "2025-06-15T14:42:19.379473Z",
     "iopub.status.busy": "2025-06-15T14:42:19.378845Z",
     "iopub.status.idle": "2025-06-15T14:42:23.424502Z",
     "shell.execute_reply": "2025-06-15T14:42:23.423668Z"
    },
    "papermill": {
     "duration": 4.049805,
     "end_time": "2025-06-15T14:42:23.425854",
     "exception": false,
     "start_time": "2025-06-15T14:42:19.376049",
     "status": "completed"
    },
    "tags": []
   },
   "outputs": [
    {
     "name": "stdout",
     "output_type": "stream",
     "text": [
      "Downloading data from https://storage.googleapis.com/keras-applications/efficientnetb4_notop.h5\n",
      "\u001b[1m71686520/71686520\u001b[0m \u001b[32m━━━━━━━━━━━━━━━━━━━━\u001b[0m\u001b[37m\u001b[0m \u001b[1m0s\u001b[0m 0us/step\n"
     ]
    }
   ],
   "source": [
    "def build_model():\n",
    "    base_model = tf.keras.applications.EfficientNetB4(\n",
    "        include_top=False,\n",
    "        weights='imagenet',\n",
    "        input_shape=(*IMG_SIZE, 3)\n",
    "    )\n",
    "    base_model.trainable = False  # Freeze base model\n",
    "    #Transfer Learning\n",
    "    inputs = tf.keras.Input(shape=(*IMG_SIZE, 3))\n",
    "    x = base_model(inputs)\n",
    "    x = layers.GlobalAveragePooling2D()(x)\n",
    "    x = layers.Dense(128, activation='relu')(x)\n",
    "    x = layers.Dropout(0.5)(x)\n",
    "    outputs = layers.Dense(1, activation='sigmoid')(x)\n",
    "    \n",
    "    model = tf.keras.Model(inputs, outputs)\n",
    "    \n",
    "    model.compile(\n",
    "        optimizer=tf.keras.optimizers.Adam(1e-4),\n",
    "        loss='binary_crossentropy',\n",
    "        metrics=['accuracy', tf.keras.metrics.AUC(name='auc')]\n",
    "    )\n",
    "    return model\n",
    "\n",
    "model = build_model()"
   ]
  },
  {
   "cell_type": "code",
   "execution_count": 3,
   "id": "767d47b1",
   "metadata": {
    "execution": {
     "iopub.execute_input": "2025-06-15T14:42:23.431702Z",
     "iopub.status.busy": "2025-06-15T14:42:23.431214Z",
     "iopub.status.idle": "2025-06-15T14:45:53.830432Z",
     "shell.execute_reply": "2025-06-15T14:45:53.829791Z"
    },
    "papermill": {
     "duration": 210.403479,
     "end_time": "2025-06-15T14:45:53.831847",
     "exception": false,
     "start_time": "2025-06-15T14:42:23.428368",
     "status": "completed"
    },
    "tags": []
   },
   "outputs": [
    {
     "name": "stdout",
     "output_type": "stream",
     "text": [
      "Epoch 1/30\n"
     ]
    },
    {
     "name": "stderr",
     "output_type": "stream",
     "text": [
      "WARNING: All log messages before absl::InitializeLog() is called are written to STDERR\n",
      "I0000 00:00:1749998574.985800      59 service.cc:148] XLA service 0x7bb124002650 initialized for platform CUDA (this does not guarantee that XLA will be used). Devices:\n",
      "I0000 00:00:1749998574.987036      59 service.cc:156]   StreamExecutor device (0): Tesla T4, Compute Capability 7.5\n",
      "I0000 00:00:1749998574.987064      59 service.cc:156]   StreamExecutor device (1): Tesla T4, Compute Capability 7.5\n",
      "I0000 00:00:1749998578.511743      59 cuda_dnn.cc:529] Loaded cuDNN version 90300\n"
     ]
    },
    {
     "name": "stdout",
     "output_type": "stream",
     "text": [
      "\u001b[1m 1/21\u001b[0m \u001b[37m━━━━━━━━━━━━━━━━━━━━\u001b[0m \u001b[1m17:58\u001b[0m 54s/step - accuracy: 0.5625 - auc: 0.5032 - loss: 0.9778"
     ]
    },
    {
     "name": "stderr",
     "output_type": "stream",
     "text": [
      "I0000 00:00:1749998597.261923      59 device_compiler.h:188] Compiled cluster using XLA!  This line is logged at most once for the lifetime of the process.\n"
     ]
    },
    {
     "name": "stdout",
     "output_type": "stream",
     "text": [
      "\u001b[1m21/21\u001b[0m \u001b[32m━━━━━━━━━━━━━━━━━━━━\u001b[0m\u001b[37m\u001b[0m \u001b[1m96s\u001b[0m 2s/step - accuracy: 0.5985 - auc: 0.5832 - loss: 0.9879 - val_accuracy: 0.8563 - val_auc: 0.9572 - val_loss: 0.5367 - learning_rate: 1.0000e-04\n",
      "Epoch 2/30\n",
      "\u001b[1m21/21\u001b[0m \u001b[32m━━━━━━━━━━━━━━━━━━━━\u001b[0m\u001b[37m\u001b[0m \u001b[1m4s\u001b[0m 172ms/step - accuracy: 0.7850 - auc: 0.8909 - loss: 0.7307 - val_accuracy: 0.8802 - val_auc: 0.9739 - val_loss: 0.4341 - learning_rate: 1.0000e-04\n",
      "Epoch 3/30\n",
      "\u001b[1m21/21\u001b[0m \u001b[32m━━━━━━━━━━━━━━━━━━━━\u001b[0m\u001b[37m\u001b[0m \u001b[1m4s\u001b[0m 174ms/step - accuracy: 0.8164 - auc: 0.9303 - loss: 0.6437 - val_accuracy: 0.9461 - val_auc: 0.9859 - val_loss: 0.3534 - learning_rate: 1.0000e-04\n",
      "Epoch 4/30\n",
      "\u001b[1m21/21\u001b[0m \u001b[32m━━━━━━━━━━━━━━━━━━━━\u001b[0m\u001b[37m\u001b[0m \u001b[1m4s\u001b[0m 172ms/step - accuracy: 0.8798 - auc: 0.9496 - loss: 0.5806 - val_accuracy: 0.9461 - val_auc: 0.9889 - val_loss: 0.3125 - learning_rate: 1.0000e-04\n",
      "Epoch 5/30\n",
      "\u001b[1m21/21\u001b[0m \u001b[32m━━━━━━━━━━━━━━━━━━━━\u001b[0m\u001b[37m\u001b[0m \u001b[1m4s\u001b[0m 172ms/step - accuracy: 0.9096 - auc: 0.9818 - loss: 0.4743 - val_accuracy: 0.9521 - val_auc: 0.9916 - val_loss: 0.2643 - learning_rate: 1.0000e-04\n",
      "Epoch 6/30\n",
      "\u001b[1m21/21\u001b[0m \u001b[32m━━━━━━━━━━━━━━━━━━━━\u001b[0m\u001b[37m\u001b[0m \u001b[1m4s\u001b[0m 173ms/step - accuracy: 0.9243 - auc: 0.9782 - loss: 0.4313 - val_accuracy: 0.9641 - val_auc: 0.9940 - val_loss: 0.2352 - learning_rate: 1.0000e-04\n",
      "Epoch 7/30\n",
      "\u001b[1m21/21\u001b[0m \u001b[32m━━━━━━━━━━━━━━━━━━━━\u001b[0m\u001b[37m\u001b[0m \u001b[1m4s\u001b[0m 172ms/step - accuracy: 0.9188 - auc: 0.9859 - loss: 0.3754 - val_accuracy: 0.9641 - val_auc: 0.9956 - val_loss: 0.1931 - learning_rate: 1.0000e-04\n",
      "Epoch 8/30\n",
      "\u001b[1m21/21\u001b[0m \u001b[32m━━━━━━━━━━━━━━━━━━━━\u001b[0m\u001b[37m\u001b[0m \u001b[1m4s\u001b[0m 175ms/step - accuracy: 0.9535 - auc: 0.9896 - loss: 0.3566 - val_accuracy: 0.9641 - val_auc: 0.9967 - val_loss: 0.1788 - learning_rate: 1.0000e-04\n",
      "Epoch 9/30\n",
      "\u001b[1m21/21\u001b[0m \u001b[32m━━━━━━━━━━━━━━━━━━━━\u001b[0m\u001b[37m\u001b[0m \u001b[1m3s\u001b[0m 110ms/step - accuracy: 0.9424 - auc: 0.9902 - loss: 0.3249 - val_accuracy: 0.9701 - val_auc: 0.9966 - val_loss: 0.1527 - learning_rate: 1.0000e-04\n",
      "Epoch 10/30\n",
      "\u001b[1m21/21\u001b[0m \u001b[32m━━━━━━━━━━━━━━━━━━━━\u001b[0m\u001b[37m\u001b[0m \u001b[1m3s\u001b[0m 110ms/step - accuracy: 0.9615 - auc: 0.9954 - loss: 0.2786 - val_accuracy: 0.9701 - val_auc: 0.9963 - val_loss: 0.1432 - learning_rate: 1.0000e-04\n",
      "Epoch 11/30\n",
      "\u001b[1m21/21\u001b[0m \u001b[32m━━━━━━━━━━━━━━━━━━━━\u001b[0m\u001b[37m\u001b[0m \u001b[1m4s\u001b[0m 173ms/step - accuracy: 0.9455 - auc: 0.9879 - loss: 0.2921 - val_accuracy: 0.9701 - val_auc: 0.9974 - val_loss: 0.1313 - learning_rate: 1.0000e-04\n",
      "Epoch 12/30\n",
      "\u001b[1m21/21\u001b[0m \u001b[32m━━━━━━━━━━━━━━━━━━━━\u001b[0m\u001b[37m\u001b[0m \u001b[1m4s\u001b[0m 175ms/step - accuracy: 0.9733 - auc: 0.9938 - loss: 0.2479 - val_accuracy: 0.9701 - val_auc: 0.9983 - val_loss: 0.1178 - learning_rate: 1.0000e-04\n",
      "Epoch 13/30\n",
      "\u001b[1m21/21\u001b[0m \u001b[32m━━━━━━━━━━━━━━━━━━━━\u001b[0m\u001b[37m\u001b[0m \u001b[1m3s\u001b[0m 114ms/step - accuracy: 0.9774 - auc: 0.9964 - loss: 0.1898 - val_accuracy: 0.9701 - val_auc: 0.9983 - val_loss: 0.1102 - learning_rate: 1.0000e-04\n",
      "Epoch 14/30\n",
      "\u001b[1m21/21\u001b[0m \u001b[32m━━━━━━━━━━━━━━━━━━━━\u001b[0m\u001b[37m\u001b[0m \u001b[1m4s\u001b[0m 174ms/step - accuracy: 0.9617 - auc: 0.9940 - loss: 0.2138 - val_accuracy: 0.9701 - val_auc: 0.9985 - val_loss: 0.1036 - learning_rate: 1.0000e-04\n",
      "Epoch 15/30\n",
      "\u001b[1m21/21\u001b[0m \u001b[32m━━━━━━━━━━━━━━━━━━━━\u001b[0m\u001b[37m\u001b[0m \u001b[1m3s\u001b[0m 112ms/step - accuracy: 0.9810 - auc: 0.9984 - loss: 0.1714 - val_accuracy: 0.9760 - val_auc: 0.9985 - val_loss: 0.0927 - learning_rate: 1.0000e-04\n",
      "Epoch 16/30\n",
      "\u001b[1m21/21\u001b[0m \u001b[32m━━━━━━━━━━━━━━━━━━━━\u001b[0m\u001b[37m\u001b[0m \u001b[1m5s\u001b[0m 201ms/step - accuracy: 0.9770 - auc: 0.9977 - loss: 0.1859 - val_accuracy: 0.9760 - val_auc: 0.9987 - val_loss: 0.0926 - learning_rate: 1.0000e-04\n",
      "Epoch 17/30\n",
      "\u001b[1m21/21\u001b[0m \u001b[32m━━━━━━━━━━━━━━━━━━━━\u001b[0m\u001b[37m\u001b[0m \u001b[1m3s\u001b[0m 113ms/step - accuracy: 0.9783 - auc: 0.9964 - loss: 0.1682 - val_accuracy: 0.9820 - val_auc: 0.9987 - val_loss: 0.0862 - learning_rate: 1.0000e-04\n",
      "Epoch 18/30\n",
      "\u001b[1m21/21\u001b[0m \u001b[32m━━━━━━━━━━━━━━━━━━━━\u001b[0m\u001b[37m\u001b[0m \u001b[1m4s\u001b[0m 172ms/step - accuracy: 0.9771 - auc: 0.9981 - loss: 0.1669 - val_accuracy: 0.9760 - val_auc: 0.9989 - val_loss: 0.0833 - learning_rate: 1.0000e-04\n",
      "Epoch 19/30\n",
      "\u001b[1m21/21\u001b[0m \u001b[32m━━━━━━━━━━━━━━━━━━━━\u001b[0m\u001b[37m\u001b[0m \u001b[1m4s\u001b[0m 187ms/step - accuracy: 0.9823 - auc: 0.9982 - loss: 0.1481 - val_accuracy: 0.9820 - val_auc: 0.9990 - val_loss: 0.0765 - learning_rate: 1.0000e-04\n",
      "Epoch 20/30\n",
      "\u001b[1m21/21\u001b[0m \u001b[32m━━━━━━━━━━━━━━━━━━━━\u001b[0m\u001b[37m\u001b[0m \u001b[1m4s\u001b[0m 175ms/step - accuracy: 0.9753 - auc: 0.9987 - loss: 0.1319 - val_accuracy: 0.9880 - val_auc: 0.9991 - val_loss: 0.0698 - learning_rate: 1.0000e-04\n",
      "Epoch 21/30\n",
      "\u001b[1m21/21\u001b[0m \u001b[32m━━━━━━━━━━━━━━━━━━━━\u001b[0m\u001b[37m\u001b[0m \u001b[1m4s\u001b[0m 175ms/step - accuracy: 0.9735 - auc: 0.9979 - loss: 0.1309 - val_accuracy: 0.9880 - val_auc: 0.9991 - val_loss: 0.0661 - learning_rate: 1.0000e-04\n",
      "Epoch 22/30\n",
      "\u001b[1m21/21\u001b[0m \u001b[32m━━━━━━━━━━━━━━━━━━━━\u001b[0m\u001b[37m\u001b[0m \u001b[1m4s\u001b[0m 177ms/step - accuracy: 0.9885 - auc: 0.9997 - loss: 0.1120 - val_accuracy: 0.9880 - val_auc: 0.9993 - val_loss: 0.0616 - learning_rate: 1.0000e-04\n",
      "Epoch 23/30\n",
      "\u001b[1m21/21\u001b[0m \u001b[32m━━━━━━━━━━━━━━━━━━━━\u001b[0m\u001b[37m\u001b[0m \u001b[1m4s\u001b[0m 175ms/step - accuracy: 0.9822 - auc: 0.9987 - loss: 0.1209 - val_accuracy: 0.9880 - val_auc: 0.9995 - val_loss: 0.0587 - learning_rate: 1.0000e-04\n",
      "Epoch 24/30\n",
      "\u001b[1m21/21\u001b[0m \u001b[32m━━━━━━━━━━━━━━━━━━━━\u001b[0m\u001b[37m\u001b[0m \u001b[1m4s\u001b[0m 176ms/step - accuracy: 0.9953 - auc: 1.0000 - loss: 0.0972 - val_accuracy: 0.9880 - val_auc: 0.9996 - val_loss: 0.0546 - learning_rate: 1.0000e-04\n",
      "Epoch 25/30\n",
      "\u001b[1m21/21\u001b[0m \u001b[32m━━━━━━━━━━━━━━━━━━━━\u001b[0m\u001b[37m\u001b[0m \u001b[1m3s\u001b[0m 114ms/step - accuracy: 0.9954 - auc: 0.9998 - loss: 0.0961 - val_accuracy: 0.9880 - val_auc: 0.9996 - val_loss: 0.0532 - learning_rate: 1.0000e-04\n",
      "Epoch 26/30\n",
      "\u001b[1m21/21\u001b[0m \u001b[32m━━━━━━━━━━━━━━━━━━━━\u001b[0m\u001b[37m\u001b[0m \u001b[1m4s\u001b[0m 177ms/step - accuracy: 0.9936 - auc: 1.0000 - loss: 0.0927 - val_accuracy: 0.9880 - val_auc: 0.9996 - val_loss: 0.0501 - learning_rate: 1.0000e-04\n",
      "Epoch 27/30\n",
      "\u001b[1m21/21\u001b[0m \u001b[32m━━━━━━━━━━━━━━━━━━━━\u001b[0m\u001b[37m\u001b[0m \u001b[1m3s\u001b[0m 116ms/step - accuracy: 0.9915 - auc: 0.9993 - loss: 0.1049 - val_accuracy: 0.9880 - val_auc: 0.9996 - val_loss: 0.0485 - learning_rate: 1.0000e-04\n",
      "Epoch 28/30\n",
      "\u001b[1m21/21\u001b[0m \u001b[32m━━━━━━━━━━━━━━━━━━━━\u001b[0m\u001b[37m\u001b[0m \u001b[1m3s\u001b[0m 113ms/step - accuracy: 0.9920 - auc: 0.9999 - loss: 0.0875 - val_accuracy: 0.9820 - val_auc: 0.9996 - val_loss: 0.0466 - learning_rate: 1.0000e-04\n",
      "Epoch 29/30\n",
      "\u001b[1m21/21\u001b[0m \u001b[32m━━━━━━━━━━━━━━━━━━━━\u001b[0m\u001b[37m\u001b[0m \u001b[1m4s\u001b[0m 181ms/step - accuracy: 0.9924 - auc: 0.9996 - loss: 0.0931 - val_accuracy: 0.9880 - val_auc: 0.9998 - val_loss: 0.0470 - learning_rate: 1.0000e-04\n",
      "Epoch 30/30\n",
      "\u001b[1m21/21\u001b[0m \u001b[32m━━━━━━━━━━━━━━━━━━━━\u001b[0m\u001b[37m\u001b[0m \u001b[1m4s\u001b[0m 115ms/step - accuracy: 0.9908 - auc: 0.9999 - loss: 0.0732 - val_accuracy: 0.9940 - val_auc: 0.9998 - val_loss: 0.0432 - learning_rate: 1.0000e-04\n"
     ]
    }
   ],
   "source": [
    "class_weights = {0: 1.0, 1: len(train_df[train_df['label']==0])/len(train_df[train_df['label']==1])}\n",
    "\n",
    "callbacks = [\n",
    "    tf.keras.callbacks.EarlyStopping(\n",
    "        patience=5, \n",
    "        monitor='val_auc', \n",
    "        mode='max', \n",
    "        restore_best_weights=True\n",
    "    ),\n",
    "    tf.keras.callbacks.ReduceLROnPlateau(\n",
    "        monitor='val_loss', \n",
    "        factor=0.5, \n",
    "        patience=3\n",
    "    ),\n",
    "    tf.keras.callbacks.ModelCheckpoint(\n",
    "        'best_model.keras',  # Changed from .h5 to .keras\n",
    "        save_best_only=True, \n",
    "        monitor='val_auc', \n",
    "        mode='max'\n",
    "    )\n",
    "]\n",
    "\n",
    "history = model.fit(\n",
    "    train_ds,\n",
    "    validation_data=test_ds,\n",
    "    epochs=EPOCHS,\n",
    "    class_weight=class_weights,\n",
    "    callbacks=callbacks,\n",
    "    verbose=1\n",
    ")"
   ]
  },
  {
   "cell_type": "code",
   "execution_count": 4,
   "id": "7fbbcac2",
   "metadata": {
    "execution": {
     "iopub.execute_input": "2025-06-15T14:45:53.893949Z",
     "iopub.status.busy": "2025-06-15T14:45:53.893207Z",
     "iopub.status.idle": "2025-06-15T14:46:17.895527Z",
     "shell.execute_reply": "2025-06-15T14:46:17.894739Z"
    },
    "papermill": {
     "duration": 24.034195,
     "end_time": "2025-06-15T14:46:17.896698",
     "exception": false,
     "start_time": "2025-06-15T14:45:53.862503",
     "status": "completed"
    },
    "tags": []
   },
   "outputs": [
    {
     "data": {
      "image/png": "[encoded data removed]",
      "text/plain": [
       "<Figure size 1200x400 with 2 Axes>"
      ]
     },
     "metadata": {},
     "output_type": "display_data"
    },
    {
     "name": "stdout",
     "output_type": "stream",
     "text": [
      "\u001b[1m6/6\u001b[0m \u001b[32m━━━━━━━━━━━━━━━━━━━━\u001b[0m\u001b[37m\u001b[0m \u001b[1m23s\u001b[0m 2s/step\n",
      "\n",
      "Classification Report:\n",
      "              precision    recall  f1-score   support\n",
      "\n",
      "      Normal       0.99      0.99      0.99       123\n",
      "   Parkinson       0.98      0.98      0.98        44\n",
      "\n",
      "    accuracy                           0.99       167\n",
      "   macro avg       0.98      0.98      0.98       167\n",
      "weighted avg       0.99      0.99      0.99       167\n",
      "\n"
     ]
    },
    {
     "data": {
      "image/png": "[encoded data removed]",
      "text/plain": [
       "<Figure size 600x600 with 2 Axes>"
      ]
     },
     "metadata": {},
     "output_type": "display_data"
    }
   ],
   "source": [
    "# Plot training history\n",
    "def plot_history(history):\n",
    "    plt.figure(figsize=(12, 4))\n",
    "    plt.subplot(1, 2, 1)\n",
    "    plt.plot(history.history['accuracy'], label='Train Accuracy')\n",
    "    plt.plot(history.history['val_accuracy'], label='Val Accuracy')\n",
    "    plt.title('Model Accuracy')\n",
    "    plt.legend()\n",
    "    \n",
    "    plt.subplot(1, 2, 2)\n",
    "    plt.plot(history.history['loss'], label='Train Loss')\n",
    "    plt.plot(history.history['val_loss'], label='Val Loss')\n",
    "    plt.title('Model Loss')\n",
    "    plt.legend()\n",
    "    plt.show()\n",
    "\n",
    "plot_history(history)\n",
    "\n",
    "# Generate predictions\n",
    "y_pred = model.predict(test_ds)\n",
    "y_pred = (y_pred > 0.5).astype(int)\n",
    "y_true = test_df['label'].values\n",
    "\n",
    "# Classification report\n",
    "print(\"\\nClassification Report:\")\n",
    "print(classification_report(y_true, y_pred, target_names=['Normal', 'Parkinson']))\n",
    "\n",
    "# Confusion matrix\n",
    "plt.figure(figsize=(6, 6))\n",
    "sns.heatmap(confusion_matrix(y_true, y_pred), \n",
    "            annot=True, fmt='d', cmap='Blues',\n",
    "            xticklabels=['Normal', 'Parkinson'],\n",
    "            yticklabels=['Normal', 'Parkinson'])\n",
    "plt.title('Confusion Matrix')\n",
    "plt.show()\n"
   ]
  },
  {
   "cell_type": "code",
   "execution_count": 5,
   "id": "4294a66d",
   "metadata": {
    "execution": {
     "iopub.execute_input": "2025-06-15T14:46:18.007262Z",
     "iopub.status.busy": "2025-06-15T14:46:18.006790Z",
     "iopub.status.idle": "2025-06-15T14:46:18.566432Z",
     "shell.execute_reply": "2025-06-15T14:46:18.565791Z"
    },
    "papermill": {
     "duration": 0.637808,
     "end_time": "2025-06-15T14:46:18.567609",
     "exception": false,
     "start_time": "2025-06-15T14:46:17.929801",
     "status": "completed"
    },
    "tags": []
   },
   "outputs": [
    {
     "name": "stdout",
     "output_type": "stream",
     "text": [
      "\u001b[1m6/6\u001b[0m \u001b[32m━━━━━━━━━━━━━━━━━━━━\u001b[0m\u001b[37m\u001b[0m \u001b[1m1s\u001b[0m 80ms/step - accuracy: 0.9844 - auc: 0.9999 - loss: 0.0478\n",
      "\n",
      "Test Accuracy: 98.80%\n"
     ]
    }
   ],
   "source": [
    "_, test_accuracy, _ = model.evaluate(test_ds)  # Ignore loss and AUC\n",
    "print(f\"\\nTest Accuracy: {test_accuracy*100:.2f}%\")"
   ]
  },
  {
   "cell_type": "code",
   "execution_count": 6,
   "id": "9e2ed0e5",
   "metadata": {
    "execution": {
     "iopub.execute_input": "2025-06-15T14:46:18.631754Z",
     "iopub.status.busy": "2025-06-15T14:46:18.631528Z",
     "iopub.status.idle": "2025-06-15T14:46:31.797341Z",
     "shell.execute_reply": "2025-06-15T14:46:31.796529Z"
    },
    "papermill": {
     "duration": 13.19911,
     "end_time": "2025-06-15T14:46:31.798727",
     "exception": false,
     "start_time": "2025-06-15T14:46:18.599617",
     "status": "completed"
    },
    "tags": []
   },
   "outputs": [
    {
     "name": "stdout",
     "output_type": "stream",
     "text": [
      "\n",
      "Image: ep2d_diff_3scan_trace_p2_TRACEW_DFC_052.png\n",
      "True Label: Normal\n",
      "Predicted: Normal (score: 0.1306)\n",
      "Confidence: 86.9%\n",
      "\n",
      "Image: Reg_-_sDW_SSh_SENSE_024.png\n",
      "True Label: Parkinson\n",
      "Predicted: Normal (score: 0.1290)\n",
      "Confidence: 87.1%\n",
      "\n",
      "Image: SWI_Images_024.png\n",
      "True Label: Normal\n",
      "Predicted: Normal (score: 0.1314)\n",
      "Confidence: 86.9%\n"
     ]
    }
   ],
   "source": [
    "import numpy as np\n",
    "sample_images = test_df.sample(3)\n",
    "\n",
    "for _, row in sample_images.iterrows():\n",
    "    img = tf.keras.utils.load_img(row['path'], target_size=IMG_SIZE)\n",
    "    img_array = tf.keras.utils.img_to_array(img)/255.0\n",
    "    img_array = np.expand_dims(img_array, axis=0)\n",
    "    \n",
    "    pred_prob = model.predict(img_array, verbose=0)[0][0]\n",
    "    pred_label = 'Parkinson' if pred_prob > 0.5 else 'Normal'\n",
    "    \n",
    "    print(f\"\\nImage: {Path(row['path']).name}\")\n",
    "    print(f\"True Label: {'Parkinson' if row['label'] == 1 else 'Normal'}\")\n",
    "    print(f\"Predicted: {pred_label} (score: {pred_prob:.4f})\")\n",
    "    print(f\"Confidence: {max(pred_prob, 1-pred_prob):.1%}\")"
   ]
  },
  {
   "cell_type": "code",
   "execution_count": 7,
   "id": "726d101b",
   "metadata": {
    "execution": {
     "iopub.execute_input": "2025-06-15T14:46:31.863980Z",
     "iopub.status.busy": "2025-06-15T14:46:31.863285Z",
     "iopub.status.idle": "2025-06-15T14:46:32.464744Z",
     "shell.execute_reply": "2025-06-15T14:46:32.464118Z"
    },
    "papermill": {
     "duration": 0.635475,
     "end_time": "2025-06-15T14:46:32.466156",
     "exception": false,
     "start_time": "2025-06-15T14:46:31.830681",
     "status": "completed"
    },
    "tags": []
   },
   "outputs": [],
   "source": [
    "model.save('parkinson_model.h5') "
   ]
  }
 ],
 "metadata": {
  "kaggle": {
   "accelerator": "nvidiaTeslaT4",
   "dataSources": [
    {
     "datasetId": 1685415,
     "sourceId": 2762111,
     "sourceType": "datasetVersion"
    }
   ],
   "dockerImageVersionId": 31011,
   "isGpuEnabled": true,
   "isInternetEnabled": true,
   "language": "python",
   "sourceType": "notebook"
  },
  "kernelspec": {
   "display_name": "Python 3",
   "language": "python",
   "name": "python3"
  },
  "language_info": {
   "codemirror_mode": {
    "name": "ipython",
    "version": 3
   },
   "file_extension": ".py",
   "mimetype": "text/x-python",
   "name": "python",
   "nbconvert_exporter": "python",
   "pygments_lexer": "ipython3",
   "version": "3.11.11"
  },
  "papermill": {
   "default_parameters": {},
   "duration": 281.550998,
   "end_time": "2025-06-15T14:46:36.482056",
   "environment_variables": {},
   "exception": null,
   "input_path": "__notebook__.ipynb",
   "output_path": "__notebook__.ipynb",
   "parameters": {},
   "start_time": "2025-06-15T14:41:54.931058",
   "version": "2.6.0"
  }
 },
 "nbformat": 4,
 "nbformat_minor": 5
}
